{
 "cells": [
  {
   "cell_type": "markdown",
   "metadata": {
    "id": "Gp2WddtV9IwG"
   },
   "source": [
    "# Programa Ingenias+ Data Science"
   ]
  },
  {
   "cell_type": "markdown",
   "metadata": {
    "id": "H4M1yVbf9IwH"
   },
   "source": [
    "Como dijimos en clases anteriores, Python tiene implementadas muchas librerias para poder trabajar con datos. En la clase de hoy trabajaremos con una de ellas: `Numpy`."
   ]
  },
  {
   "cell_type": "markdown",
   "metadata": {
    "id": "GdTT8WeL9IwI"
   },
   "source": [
    "Antes de comenzar, vamos a hablar un poco de esta libreria o modulo.\n",
    "\n",
    "**Numpy** es una librería optimizada para realizar cálculos numéricos con vectores y matrices. A diferencia de otros lenguajes de programación, Python no posee en su estructura central la figura de matrices. Eso quiere decir que para poder trabajar con esta estructura de datos deberiamos trabajar con listas de listas. NumPy introduce el concepto de arrays o matrices."
   ]
  },
  {
   "cell_type": "markdown",
   "metadata": {
    "id": "qWkq3EHK9IwK"
   },
   "source": [
    "Al ser de código abierto, `numpy` posee una documentación muy amplia que es **SIEMPRE RECOMENDABLE** consultar."
   ]
  },
  {
   "cell_type": "markdown",
   "metadata": {
    "id": "nxe3KLUO9IwL"
   },
   "source": [
    "- [Documentacion NumPy](https://devdocs.io/numpy/)"
   ]
  },
  {
   "cell_type": "markdown",
   "metadata": {
    "id": "l1Ay3nSs9IwN"
   },
   "source": [
    "## Clase 4: Introduccion a NumPy"
   ]
  },
  {
   "cell_type": "markdown",
   "metadata": {
    "id": "X03mviQS9IyL"
   },
   "source": [
    "# Ejercicios\n",
    "\n",
    "\n",
    "1. Crear un arreglo de ceros de longitud 12\n",
    "2. Crear un arreglo de longitud 10 con ceros en todas sus posiciones y un 10 en la posición número 5\n",
    "3. Crear un arreglo que tenga los números del 10 al 49\n",
    "4. Crear una arreglo 2d de shape (3, 3) que tenga los números del 0 al 8\n",
    "5. Crear un arreglo de números aleatorios de longitud 100 y obtener su media y varianza\n",
    "6. Calcular la media de un arreglo usando np.sum\n",
    "7. Calcular la varianza de un arreglo usando np.sum y np.mean\n",
    "8. Crear un array de números aleatorios usando np.random.randn.\n"
   ]
  },
  {
   "cell_type": "code",
   "execution_count": 2,
   "metadata": {},
   "outputs": [
    {
     "name": "stdout",
     "output_type": "stream",
     "text": [
      "Requirement already satisfied: numpy in c:\\users\\ronao\\anaconda3\\lib\\site-packages (1.24.3)\n"
     ]
    }
   ],
   "source": [
    "#instalar numpy\n",
    "!pip install numpy"
   ]
  },
  {
   "cell_type": "code",
   "execution_count": 3,
   "metadata": {},
   "outputs": [],
   "source": [
    "#Importar numpy\n",
    "import numpy as np"
   ]
  },
  {
   "cell_type": "code",
   "execution_count": 12,
   "metadata": {},
   "outputs": [
    {
     "name": "stdout",
     "output_type": "stream",
     "text": [
      "[0. 0. 0. 0. 0. 0. 0. 0. 0. 0. 0. 0.]\n"
     ]
    }
   ],
   "source": [
    "#1. Crear un arreglo de ceros de longitud 12\n",
    "array1=np.zeros(12)\n",
    "print(array1)"
   ]
  },
  {
   "cell_type": "code",
   "execution_count": 75,
   "metadata": {},
   "outputs": [
    {
     "name": "stdout",
     "output_type": "stream",
     "text": [
      "[ 0.  0.  0.  0. 10.  0.  0.  0.  0.  0.]\n"
     ]
    }
   ],
   "source": [
    "#2. Crear un arreglo de longitud 10 con ceros en todas sus posiciones y un 10 en la posición número 5\n",
    "array2=np.zeros(10)\n",
    "array2[4] = 10\n",
    "print(array2)"
   ]
  },
  {
   "cell_type": "code",
   "execution_count": null,
   "metadata": {},
   "outputs": [],
   "source": [
    "array2b[0, 4] = 5\n",
    "print(array2)\n",
    "print(array2b)"
   ]
  },
  {
   "cell_type": "code",
   "execution_count": 13,
   "metadata": {},
   "outputs": [
    {
     "name": "stdout",
     "output_type": "stream",
     "text": [
      "[10 11 12 13 14 15 16 17 18 19 20 21 22 23 24 25 26 27 28 29 30 31 32 33\n",
      " 34 35 36 37 38 39 40 41 42 43 44 45 46 47 48 49]\n"
     ]
    }
   ],
   "source": [
    "#3. Crear un arreglo que tenga los números del 10 al 49\n",
    "array3=np.arange(10,50,1)\n",
    "print (array3)"
   ]
  },
  {
   "cell_type": "code",
   "execution_count": 61,
   "metadata": {},
   "outputs": [
    {
     "name": "stdout",
     "output_type": "stream",
     "text": [
      "[[0 1 2]\n",
      " [3 4 5]\n",
      " [6 7 8]]\n"
     ]
    }
   ],
   "source": [
    "#4. Crear una arreglo 2d de shape (3, 3) que tenga los números del 0 al 8\n",
    "array4=np.arange(0,9,1)\n",
    "array4.shape= (3, 3)\n",
    "print(array4)"
   ]
  },
  {
   "cell_type": "code",
   "execution_count": 18,
   "metadata": {},
   "outputs": [
    {
     "name": "stdout",
     "output_type": "stream",
     "text": [
      "[-0.79815981 -1.54208076  0.27095062 -0.36242183  0.94633237 -0.79965838\n",
      "  0.64418478 -0.0141446  -1.09007668 -0.29302438 -0.3017723   1.26251937\n",
      " -2.33378172  0.52031331  0.64080851  0.73542973  0.43455234 -1.0518697\n",
      " -0.88729444  1.15846506 -1.71819287  0.14670598 -1.0434892   0.1485386\n",
      " -1.27462801  0.62805427  0.97025981 -0.8256647   1.33483987  3.02658259\n",
      " -0.29593648  0.61292728  0.75358943  0.94403302  0.88263223  1.2661629\n",
      " -0.40270498  0.24519369 -0.05715379  1.95819428 -0.00457267 -1.32571253\n",
      " -1.2585871   0.28264501  1.00416936 -1.31135343  0.40211229 -0.21387411\n",
      " -0.24606317 -1.4840965   0.29214493 -1.38709143 -0.77367704  0.36882398\n",
      " -0.76393551  0.88643709  0.0933831   0.04071193 -1.1469161   0.99620665\n",
      " -0.89788197  1.14000497 -0.47734442 -1.08215178 -0.82946769 -0.00580221\n",
      " -0.24636249  0.50486724 -0.48607198 -0.43121897  1.26008675  1.6580176\n",
      " -2.13753089 -0.94720131 -0.29860903  0.52976809  0.45866495 -0.69354416\n",
      " -2.08571673 -0.63844221 -0.86976852 -0.86128482 -1.74170719  1.1069794\n",
      "  0.7906038  -0.29650566  0.59639659 -1.61027632  0.08290465 -0.03985759\n",
      " -1.38105883 -1.58389885 -0.44795439  1.10859557  1.19730294  0.60685185\n",
      " -0.58990467  0.25022298 -0.50324012 -1.62946172]\n",
      "-0.1263102702712271\n",
      "0.996587186659897\n"
     ]
    }
   ],
   "source": [
    "#5. Crear un arreglo de números aleatorios de longitud 100 y obtener su media y varianza\n",
    "array8=np.random.randn(100)\n",
    "print (array8)\n",
    "print(np.mean(array8))\n",
    "print(np.var(array8))"
   ]
  },
  {
   "cell_type": "code",
   "execution_count": 21,
   "metadata": {},
   "outputs": [
    {
     "name": "stdout",
     "output_type": "stream",
     "text": [
      "[ 2  4 12]\n",
      "6\n"
     ]
    }
   ],
   "source": [
    "#6. Calcular la media de un arreglo usando np.sum\n",
    "array6=np.array([2, 4, 6])\n",
    "prom=np.sum(array6)//len(array6) \n",
    "print(array6)\n",
    "print(prom)"
   ]
  },
  {
   "cell_type": "code",
   "execution_count": 56,
   "metadata": {},
   "outputs": [
    {
     "name": "stdout",
     "output_type": "stream",
     "text": [
      "4.0\n",
      "4.0\n",
      "[-2.0, 0.0, 2.0]\n",
      "8.0\n",
      "3\n",
      "2.00\n",
      "2.6666666666666665\n",
      "La varianza del arreglo es: 2.00\n"
     ]
    }
   ],
   "source": [
    "#7. Calcular la varianza de un arreglo usando np.sum y np.mean\n",
    "#Var (X) = [(x1-x̄)2+ (x2-x̄)2+ (x3-x̄)2+…….+(xn-x̄)2]/n\n",
    "array7=np.array([2, 4, 6])\n",
    "array7_mean=np.mean(array7)\n",
    "array7_dif=[i - array7_mean for i in array7]\n",
    "array7_sum_cuad=np.sum([i ** 2 for i in array7_dif])\n",
    "array7_var=format(array7_sum_cuad//len(array7),\".2f\")\n",
    "print(array7_mean)\n",
    "print(np.mean(array7))\n",
    "print(array7_dif)\n",
    "print(array7_sum_cuad)\n",
    "print(len(array7))\n",
    "print(array7_var)\n",
    "  \n",
    "print(np.var(array7))\n",
    "print(\"La varianza del arreglo es:\",array7_var)  "
   ]
  },
  {
   "cell_type": "code",
   "execution_count": null,
   "metadata": {},
   "outputs": [],
   "source": [
    "array7_var=(np.sum((array7**2))//len(array7))-(np.mean(array7))\n",
    "rounded_number = format(number,\".2f\" )"
   ]
  },
  {
   "cell_type": "code",
   "execution_count": null,
   "metadata": {},
   "outputs": [],
   "source": [
    "#8. Crear un array de números aleatorios usando np.random.randn\n",
    "array8=np.random.randn(10)\n",
    "print (array8)"
   ]
  }
 ],
 "metadata": {
  "colab": {
   "provenance": []
  },
  "kernelspec": {
   "display_name": "Python 3 (ipykernel)",
   "language": "python",
   "name": "python3"
  },
  "language_info": {
   "codemirror_mode": {
    "name": "ipython",
    "version": 3
   },
   "file_extension": ".py",
   "mimetype": "text/x-python",
   "name": "python",
   "nbconvert_exporter": "python",
   "pygments_lexer": "ipython3",
   "version": "3.11.3"
  }
 },
 "nbformat": 4,
 "nbformat_minor": 1
}
